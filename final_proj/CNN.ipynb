{
 "cells": [
  {
   "cell_type": "code",
   "execution_count": 1,
   "metadata": {
    "id": "3uhCOh7HsfkH"
   },
   "outputs": [
    {
     "name": "stderr",
     "output_type": "stream",
     "text": [
      "/opt/anaconda3/lib/python3.8/site-packages/torchaudio/backend/utils.py:53: UserWarning: \"sox\" backend is being deprecated. The default backend will be changed to \"sox_io\" backend in 0.8.0 and \"sox\" backend will be removed in 0.9.0. Please migrate to \"sox_io\" backend. Please refer to https://github.com/pytorch/audio/issues/903 for the detail.\n",
      "  warnings.warn(\n"
     ]
    }
   ],
   "source": [
    "import os\n",
    "import IPython\n",
    "import numpy as np\n",
    "import pandas as pd\n",
    "import random\n",
    "import matplotlib.pyplot as plt\n",
    "import seaborn as sns\n",
    "from scipy.io import wavfile\n",
    "from scipy.fft import fft, fftfreq\n",
    "from scipy.signal import spectrogram, find_peaks\n",
    "import torch\n",
    "import torch.nn as nn\n",
    "import torchaudio\n",
    "from torchaudio import transforms\n",
    "import torch.nn.functional as F\n",
    "from torch.nn import init\n",
    "from torch.utils.data import random_split\n",
    "import torchvision.models as models"
   ]
  },
  {
   "cell_type": "code",
   "execution_count": 2,
   "metadata": {},
   "outputs": [
    {
     "name": "stderr",
     "output_type": "stream",
     "text": [
      "/opt/anaconda3/lib/python3.8/site-packages/torch/functional.py:515: UserWarning: stft will require the return_complex parameter be explicitly  specified in a future PyTorch release. Use return_complex=False  to preserve the current behavior or return_complex=True to return  a complex output. (Triggered internally at  /Users/distiller/project/conda/conda-bld/pytorch_1607370249289/work/aten/src/ATen/native/SpectralOps.cpp:653.)\n",
      "  return _VF.stft(input, n_fft, hop_length, win_length, window,  # type: ignore\n",
      "/opt/anaconda3/lib/python3.8/site-packages/torch/functional.py:515: UserWarning: The function torch.rfft is deprecated and will be removed in a future PyTorch release. Use the new torch.fft module functions, instead, by importing torch.fft and calling torch.fft.fft or torch.fft.rfft. (Triggered internally at  /Users/distiller/project/conda/conda-bld/pytorch_1607370249289/work/aten/src/ATen/native/SpectralOps.cpp:590.)\n",
      "  return _VF.stft(input, n_fft, hop_length, win_length, window,  # type: ignore\n"
     ]
    }
   ],
   "source": [
    "path = \"/Users/weiqiangqian/541_project/Audio_Files\"\n",
    "data = []\n",
    "classid = []\n",
    "max_len = 101429\n",
    "n_mels=64\n",
    "n_fft=1024\n",
    "hop_len=None\n",
    "for dirname, _, filenames in os.walk(path):\n",
    "    for filename in filenames:\n",
    "        foldername = os.path.basename(dirname)\n",
    "        full_path = os.path.join(dirname, filename)\n",
    "        if(dirname == '/Users/weiqiangqian/541_project/Audio_Files/Major'):\n",
    "            classid.append(1)\n",
    "        if(dirname == '/Users/weiqiangqian/541_project/Audio_Files/Minor'):\n",
    "            classid.append(0)\n",
    "        signal,fs = torchaudio.load(full_path)\n",
    "        num_rows, sig_len = signal.shape\n",
    "        if(sig_len < max_len):\n",
    "            pad_begin_len = random.randint(0, max_len - sig_len)\n",
    "            pad_end_len = max_len - sig_len - pad_begin_len\n",
    "              # Pad with 0s\n",
    "            pad_begin = torch.zeros((num_rows, pad_begin_len))\n",
    "            pad_end = torch.zeros((num_rows, pad_end_len))\n",
    "\n",
    "            signal = torch.cat((pad_begin, signal, pad_end), 1)\n",
    "            \n",
    "#             signal,fs = aud\n",
    "#             _, sig_len = signal.shape\n",
    "#             shift_amt = int(random.random() * shift_limit * sig_len)\n",
    "            \n",
    "#         print(sig_len)\n",
    "#         fs, signal = wavfile.read(full_path)\n",
    "#         N = len(signal)\n",
    "#         time = np.linspace(0., N/fs, N)\n",
    "#         f, t, Sxx = spectrogram(signal, fs, nperseg=10000, nfft = 50000)\n",
    "            spec = transforms.MelSpectrogram(fs, n_fft=n_fft, hop_length=hop_len, n_mels=n_mels)(signal)\n",
    "            spec = transforms.AmplitudeToDB(top_db=80)(spec)\n",
    "#         print(np.array(Sxx).shape)\n",
    "        data.append(spec)\n",
    "#         print(signal.shape)\n",
    "    "
   ]
  },
  {
   "cell_type": "code",
   "execution_count": 3,
   "metadata": {},
   "outputs": [],
   "source": [
    "# list(newtrain_ds)[0]"
   ]
  },
  {
   "cell_type": "code",
   "execution_count": 4,
   "metadata": {
    "scrolled": true
   },
   "outputs": [
    {
     "data": {
      "text/plain": [
       "859"
      ]
     },
     "execution_count": 4,
     "metadata": {},
     "output_type": "execute_result"
    }
   ],
   "source": [
    "len(classid)"
   ]
  },
  {
   "cell_type": "code",
   "execution_count": 5,
   "metadata": {},
   "outputs": [],
   "source": [
    "# x = zip(data,classid)\n",
    "# x = list(x)\n",
    "x = list(zip(data, classid))"
   ]
  },
  {
   "cell_type": "code",
   "execution_count": 6,
   "metadata": {},
   "outputs": [],
   "source": [
    "num_items = len(x)\n",
    "num_train = round(num_items * 0.85)\n",
    "num_test = num_items - num_train\n",
    "train_ds, test_ds = random_split(x, [num_train, num_test])\n",
    "num_val = num_test\n",
    "num_newtrain = num_train - num_val\n",
    "newtrain_ds,val_ds = random_split(train_ds,[num_newtrain,num_val])\n",
    "train_dl = torch.utils.data.DataLoader(newtrain_ds, batch_size=16, shuffle=True)\n",
    "val_dl = torch.utils.data.DataLoader(val_ds, batch_size=16, shuffle=True)\n",
    "test_dl = torch.utils.data.DataLoader(test_ds,batch_size=16,shuffle=True)"
   ]
  },
  {
   "cell_type": "code",
   "execution_count": 7,
   "metadata": {
    "scrolled": true
   },
   "outputs": [],
   "source": [
    "# for i in range(len(newtrain_ds)):\n",
    "#     if newtrain_ds[i][0].shape[2] == 11:\n",
    "#         break"
   ]
  },
  {
   "cell_type": "code",
   "execution_count": 8,
   "metadata": {},
   "outputs": [
    {
     "data": {
      "text/plain": [
       "torch.Size([16, 1, 64, 199])"
      ]
     },
     "execution_count": 8,
     "metadata": {},
     "output_type": "execute_result"
    }
   ],
   "source": [
    "list(train_dl)[0][0].shape"
   ]
  },
  {
   "cell_type": "code",
   "execution_count": 9,
   "metadata": {},
   "outputs": [
    {
     "data": {
      "text/plain": [
       "601"
      ]
     },
     "execution_count": 9,
     "metadata": {},
     "output_type": "execute_result"
    }
   ],
   "source": [
    "len(newtrain_ds)"
   ]
  },
  {
   "cell_type": "code",
   "execution_count": 10,
   "metadata": {
    "scrolled": true
   },
   "outputs": [
    {
     "data": {
      "text/plain": [
       "[torch.Size([1, 64, 199]),\n",
       " torch.Size([1, 64, 199]),\n",
       " torch.Size([1, 64, 199]),\n",
       " torch.Size([1, 64, 199]),\n",
       " torch.Size([1, 64, 199]),\n",
       " torch.Size([1, 64, 199]),\n",
       " torch.Size([1, 64, 199]),\n",
       " torch.Size([1, 64, 199]),\n",
       " torch.Size([1, 64, 199]),\n",
       " torch.Size([1, 64, 199]),\n",
       " torch.Size([1, 64, 199]),\n",
       " torch.Size([1, 64, 199]),\n",
       " torch.Size([1, 64, 199]),\n",
       " torch.Size([1, 64, 199]),\n",
       " torch.Size([1, 64, 199]),\n",
       " torch.Size([1, 64, 199]),\n",
       " torch.Size([1, 64, 199]),\n",
       " torch.Size([1, 64, 199]),\n",
       " torch.Size([1, 64, 199]),\n",
       " torch.Size([1, 64, 199]),\n",
       " torch.Size([1, 64, 199]),\n",
       " torch.Size([1, 64, 199]),\n",
       " torch.Size([1, 64, 199]),\n",
       " torch.Size([1, 64, 199]),\n",
       " torch.Size([1, 64, 199]),\n",
       " torch.Size([1, 64, 199]),\n",
       " torch.Size([1, 64, 199]),\n",
       " torch.Size([1, 64, 199]),\n",
       " torch.Size([1, 64, 199]),\n",
       " torch.Size([1, 64, 199]),\n",
       " torch.Size([1, 64, 199]),\n",
       " torch.Size([1, 64, 199]),\n",
       " torch.Size([1, 64, 199]),\n",
       " torch.Size([1, 64, 199]),\n",
       " torch.Size([1, 64, 199]),\n",
       " torch.Size([1, 64, 199]),\n",
       " torch.Size([1, 64, 199]),\n",
       " torch.Size([1, 64, 199]),\n",
       " torch.Size([1, 64, 199]),\n",
       " torch.Size([1, 64, 199]),\n",
       " torch.Size([1, 64, 199]),\n",
       " torch.Size([1, 64, 199]),\n",
       " torch.Size([1, 64, 199]),\n",
       " torch.Size([1, 64, 199]),\n",
       " torch.Size([1, 64, 199]),\n",
       " torch.Size([1, 64, 199]),\n",
       " torch.Size([1, 64, 199]),\n",
       " torch.Size([1, 64, 199]),\n",
       " torch.Size([1, 64, 199]),\n",
       " torch.Size([1, 64, 199]),\n",
       " torch.Size([1, 64, 199]),\n",
       " torch.Size([1, 64, 199]),\n",
       " torch.Size([1, 64, 199]),\n",
       " torch.Size([1, 64, 199]),\n",
       " torch.Size([1, 64, 199]),\n",
       " torch.Size([1, 64, 199]),\n",
       " torch.Size([1, 64, 199]),\n",
       " torch.Size([1, 64, 199]),\n",
       " torch.Size([1, 64, 199]),\n",
       " torch.Size([1, 64, 199]),\n",
       " torch.Size([1, 64, 199]),\n",
       " torch.Size([1, 64, 199]),\n",
       " torch.Size([1, 64, 199]),\n",
       " torch.Size([1, 64, 199]),\n",
       " torch.Size([1, 64, 199]),\n",
       " torch.Size([1, 64, 199]),\n",
       " torch.Size([1, 64, 199]),\n",
       " torch.Size([1, 64, 199]),\n",
       " torch.Size([1, 64, 199]),\n",
       " torch.Size([1, 64, 199]),\n",
       " torch.Size([1, 64, 199]),\n",
       " torch.Size([1, 64, 199]),\n",
       " torch.Size([1, 64, 199]),\n",
       " torch.Size([1, 64, 199]),\n",
       " torch.Size([1, 64, 199]),\n",
       " torch.Size([1, 64, 199]),\n",
       " torch.Size([1, 64, 199]),\n",
       " torch.Size([1, 64, 199]),\n",
       " torch.Size([1, 64, 199]),\n",
       " torch.Size([1, 64, 199]),\n",
       " torch.Size([1, 64, 199]),\n",
       " torch.Size([1, 64, 199]),\n",
       " torch.Size([1, 64, 199]),\n",
       " torch.Size([1, 64, 199]),\n",
       " torch.Size([1, 64, 199]),\n",
       " torch.Size([1, 64, 199]),\n",
       " torch.Size([1, 64, 199]),\n",
       " torch.Size([1, 64, 199]),\n",
       " torch.Size([1, 64, 199]),\n",
       " torch.Size([1, 64, 199]),\n",
       " torch.Size([1, 64, 199]),\n",
       " torch.Size([1, 64, 199]),\n",
       " torch.Size([1, 64, 199]),\n",
       " torch.Size([1, 64, 199]),\n",
       " torch.Size([1, 64, 199]),\n",
       " torch.Size([1, 64, 199]),\n",
       " torch.Size([1, 64, 199]),\n",
       " torch.Size([1, 64, 199]),\n",
       " torch.Size([1, 64, 199]),\n",
       " torch.Size([1, 64, 199])]"
      ]
     },
     "execution_count": 10,
     "metadata": {},
     "output_type": "execute_result"
    }
   ],
   "source": [
    "[i[0].shape for i in list(newtrain_ds)[:100]]"
   ]
  },
  {
   "cell_type": "code",
   "execution_count": 11,
   "metadata": {},
   "outputs": [
    {
     "data": {
      "text/plain": [
       "device(type='cpu')"
      ]
     },
     "execution_count": 11,
     "metadata": {},
     "output_type": "execute_result"
    }
   ],
   "source": [
    "class AudioClassifier (nn.Module):\n",
    "    # ----------------------------\n",
    "    # Build the model architecture\n",
    "    # ----------------------------\n",
    "    def __init__(self):\n",
    "        super().__init__()\n",
    "        conv_layers = []\n",
    "\n",
    "        # First Convolution Block with Relu and Batch Norm. Use Kaiming Initialization\n",
    "        self.conv1 = nn.Conv2d(1, 16, kernel_size=(5, 5), stride=(2, 2), padding=(2, 2))\n",
    "        self.relu1 = nn.ReLU()\n",
    "        self.bn1 = nn.BatchNorm2d(16)\n",
    "        init.kaiming_normal_(self.conv1.weight, a=0.1)\n",
    "        self.conv1.bias.data.zero_()\n",
    "        conv_layers += [self.conv1, self.relu1, self.bn1]\n",
    "\n",
    "        # Second Convolution Block\n",
    "        self.conv2 = nn.Conv2d(16, 16, kernel_size=(3, 3), stride=(2, 2), padding=(1, 1))\n",
    "        self.relu2 = nn.ReLU()\n",
    "        self.bn2 = nn.BatchNorm2d(16)\n",
    "        init.kaiming_normal_(self.conv2.weight, a=0.1)\n",
    "        self.conv2.bias.data.zero_()\n",
    "        conv_layers += [self.conv2, self.relu2, self.bn2]\n",
    "\n",
    "        # Second Convolution Block\n",
    "        self.conv3 = nn.Conv2d(16, 32, kernel_size=(3, 3), stride=(2, 2), padding=(1, 1))\n",
    "        self.relu3 = nn.ReLU()\n",
    "        self.bn3 = nn.BatchNorm2d(32)\n",
    "        init.kaiming_normal_(self.conv3.weight, a=0.1)\n",
    "        self.conv3.bias.data.zero_()\n",
    "        conv_layers += [self.conv3, self.relu3, self.bn3]\n",
    "\n",
    "        # Second Convolution Block\n",
    "        self.conv4 = nn.Conv2d(32, 64, kernel_size=(3, 3), stride=(2, 2), padding=(1, 1))\n",
    "        self.relu4 = nn.ReLU()\n",
    "        self.bn4 = nn.BatchNorm2d(64)\n",
    "        init.kaiming_normal_(self.conv4.weight, a=0.1)\n",
    "        self.conv4.bias.data.zero_()\n",
    "        conv_layers += [self.conv4, self.relu4, self.bn4]\n",
    "\n",
    "        # Linear Classifier\n",
    "        self.ap = nn.AdaptiveAvgPool2d(output_size=1)\n",
    "        self.lin = nn.Linear(in_features=64, out_features=10)\n",
    "\n",
    "        # Wrap the Convolutional Blocks\n",
    "        self.conv = nn.Sequential(*conv_layers)\n",
    " \n",
    "    # ----------------------------\n",
    "    # Forward pass computations\n",
    "    # ----------------------------\n",
    "    def forward(self, x):\n",
    "        # Run the convolutional blocks\n",
    "        x = self.conv(x)\n",
    "\n",
    "        # Adaptive pool and flatten for input to linear layer\n",
    "        x = self.ap(x)\n",
    "        x = x.view(x.shape[0], -1)\n",
    "\n",
    "        # Linear layer\n",
    "        x = self.lin(x)\n",
    "\n",
    "        # Final output\n",
    "        return x\n",
    "\n",
    "# Create the model and put it on the GPU if available\n",
    "myModel = AudioClassifier()\n",
    "device = torch.device(\"cuda:0\" if torch.cuda.is_available() else \"cpu\")\n",
    "myModel = myModel.to(device)\n",
    "# Check that it is on Cuda\n",
    "next(myModel.parameters()).device"
   ]
  },
  {
   "cell_type": "code",
   "execution_count": 12,
   "metadata": {},
   "outputs": [],
   "source": [
    "def training(model, train_dl, num_epochs):\n",
    "  # Loss Function, Optimizer an  # Loss Function, Optimizer and Scheduler\n",
    "#d Scheduler\n",
    "  criterion = nn.CrossEntropyLoss()\n",
    "  optimizer = torch.optim.Adam(model.parameters(),lr=0.001)\n",
    "  scheduler = torch.optim.lr_scheduler.OneCycleLR(optimizer, max_lr=0.001,\n",
    "                                                steps_per_epoch=int(len(train_dl)),\n",
    "                                                epochs=num_epochs,\n",
    "                                                anneal_strategy='linear')\n",
    "  acc_train = [] \n",
    "  val_acc = []\n",
    "  loss_list = []\n",
    "  # Repeat for each epoch\n",
    "  for epoch in range(num_epochs):\n",
    "    running_loss = 0.0\n",
    "    correct_prediction = 0\n",
    "    total_prediction = 0\n",
    "\n",
    "    # Repeat for each batch in the training set\n",
    "    for i, data in enumerate(train_dl):\n",
    "        # Get the input features and target labels, and put them on the GPU\n",
    "        inputs, labels = data[0].to(device), data[1].to(device)\n",
    "        # Normalize the inputs\n",
    "\n",
    "\n",
    "        inputs_m, inputs_s = inputs.mean(), inputs.std()\n",
    "        inputs = (inputs - inputs_m) / inputs_s\n",
    "\n",
    "\n",
    "        # Zero the parameter gradients\n",
    "        optimizer.zero_grad()\n",
    "\n",
    "        # forward + backward + optimize\n",
    "        outputs = model(inputs)\n",
    "        loss = criterion(outputs, labels)\n",
    "        loss.backward()\n",
    "        optimizer.step()\n",
    "        scheduler.step()\n",
    "\n",
    "        # Keep stats for Loss and Accuracy\n",
    "        running_loss += loss.item()\n",
    "\n",
    "        # Get the predicted class with the highest score\n",
    "        _, prediction = torch.max(outputs,1)\n",
    "        # Count of predictions that matched the target label\n",
    "        correct_prediction += (prediction == labels).sum().item()\n",
    "        total_prediction += prediction.shape[0]\n",
    "\n",
    "        #if i % 10 == 0:    # print every 10 mini-batches\n",
    "        #    print('[%d, %5d] loss: %.3f' % (epoch + 1, i + 1, running_loss / 10))\n",
    "    \n",
    "    # Print stats at the end of the epoch\n",
    "    num_batches = len(train_dl)\n",
    "    avg_loss = running_loss / num_batches\n",
    "    train_acc = correct_prediction/total_prediction\n",
    "    acc_train.append(train_acc)\n",
    "#     print(acc_train)\n",
    "    print(f'Epoch: {epoch}, Loss: {avg_loss:.2f}, Accuracy: {train_acc:.2f}')\n",
    "    acc_v = inference(myModel, val_dl)\n",
    "    val_acc.append(acc_v)\n",
    "    loss_list.append(avg_loss)\n",
    "  print('Finished Training')\n",
    "  return acc_train, val_acc, loss_list\n",
    "num_epochs=20   # Just for demo, adjust this higher."
   ]
  },
  {
   "cell_type": "code",
   "execution_count": 13,
   "metadata": {},
   "outputs": [],
   "source": [
    "# training(myModel, test_dl, num_epochs)"
   ]
  },
  {
   "cell_type": "code",
   "execution_count": 14,
   "metadata": {
    "scrolled": false
   },
   "outputs": [
    {
     "name": "stdout",
     "output_type": "stream",
     "text": [
      "Accuracy: 0.11, Total items: 129\n"
     ]
    },
    {
     "name": "stderr",
     "output_type": "stream",
     "text": [
      "[W NNPACK.cpp:80] Could not initialize NNPACK! Reason: Unsupported hardware.\n"
     ]
    },
    {
     "data": {
      "text/plain": [
       "0.10852713178294573"
      ]
     },
     "execution_count": 14,
     "metadata": {},
     "output_type": "execute_result"
    }
   ],
   "source": [
    "def inference (model, val_dl):\n",
    "  correct_prediction = 0\n",
    "  total_prediction = 0\n",
    "  # Disable gradient updates\n",
    "  with torch.no_grad():\n",
    "    for data in val_dl:\n",
    "      # Get the input features and target labels, and put them on the GPU\n",
    "      inputs, labels = data[0].to(device), data[1].to(device)\n",
    "\n",
    "      # Normalize the inputs\n",
    "      inputs_m, inputs_s = inputs.mean(), inputs.std()\n",
    "      inputs = (inputs - inputs_m) / inputs_s\n",
    "\n",
    "      # Get predictions\n",
    "      outputs = model(inputs)\n",
    "\n",
    "      # Get the predicted class with the highest score\n",
    "      _, prediction = torch.max(outputs,1)\n",
    "      # Count of predictions that matched the target label\n",
    "      correct_prediction += (prediction == labels).sum().item()\n",
    "      total_prediction += prediction.shape[0]\n",
    "    \n",
    "  acc = correct_prediction/total_prediction\n",
    "  print(f'Accuracy: {acc:.2f}, Total items: {total_prediction}')\n",
    "  return acc\n",
    "# Run inference on trained model with the validation set\n",
    "inference(myModel, val_dl)"
   ]
  },
  {
   "cell_type": "code",
   "execution_count": 15,
   "metadata": {},
   "outputs": [
    {
     "name": "stdout",
     "output_type": "stream",
     "text": [
      "Epoch: 0, Loss: 2.27, Accuracy: 0.13\n",
      "Accuracy: 0.21, Total items: 129\n",
      "Epoch: 1, Loss: 2.23, Accuracy: 0.34\n",
      "Accuracy: 0.37, Total items: 129\n",
      "Epoch: 2, Loss: 2.14, Accuracy: 0.53\n",
      "Accuracy: 0.53, Total items: 129\n",
      "Epoch: 3, Loss: 1.91, Accuracy: 0.61\n",
      "Accuracy: 0.50, Total items: 129\n",
      "Epoch: 4, Loss: 1.45, Accuracy: 0.63\n",
      "Accuracy: 0.60, Total items: 129\n",
      "Epoch: 5, Loss: 0.96, Accuracy: 0.65\n",
      "Accuracy: 0.57, Total items: 129\n",
      "Epoch: 6, Loss: 0.72, Accuracy: 0.70\n",
      "Accuracy: 0.57, Total items: 129\n",
      "Epoch: 7, Loss: 0.63, Accuracy: 0.71\n",
      "Accuracy: 0.63, Total items: 129\n",
      "Epoch: 8, Loss: 0.58, Accuracy: 0.73\n",
      "Accuracy: 0.64, Total items: 129\n",
      "Epoch: 9, Loss: 0.53, Accuracy: 0.77\n",
      "Accuracy: 0.66, Total items: 129\n",
      "Epoch: 10, Loss: 0.48, Accuracy: 0.80\n",
      "Accuracy: 0.61, Total items: 129\n",
      "Epoch: 11, Loss: 0.45, Accuracy: 0.81\n",
      "Accuracy: 0.65, Total items: 129\n",
      "Epoch: 12, Loss: 0.40, Accuracy: 0.85\n",
      "Accuracy: 0.65, Total items: 129\n",
      "Epoch: 13, Loss: 0.37, Accuracy: 0.87\n",
      "Accuracy: 0.66, Total items: 129\n",
      "Epoch: 14, Loss: 0.33, Accuracy: 0.88\n",
      "Accuracy: 0.61, Total items: 129\n",
      "Epoch: 15, Loss: 0.32, Accuracy: 0.89\n",
      "Accuracy: 0.62, Total items: 129\n",
      "Epoch: 16, Loss: 0.29, Accuracy: 0.90\n",
      "Accuracy: 0.67, Total items: 129\n",
      "Epoch: 17, Loss: 0.27, Accuracy: 0.92\n",
      "Accuracy: 0.65, Total items: 129\n",
      "Epoch: 18, Loss: 0.25, Accuracy: 0.93\n",
      "Accuracy: 0.62, Total items: 129\n",
      "Epoch: 19, Loss: 0.26, Accuracy: 0.92\n",
      "Accuracy: 0.65, Total items: 129\n",
      "Finished Training\n"
     ]
    }
   ],
   "source": [
    "a,b,c = training(myModel, train_dl, num_epochs)"
   ]
  },
  {
   "cell_type": "code",
   "execution_count": 16,
   "metadata": {},
   "outputs": [
    {
     "data": {
      "text/plain": [
       "list"
      ]
     },
     "execution_count": 16,
     "metadata": {},
     "output_type": "execute_result"
    }
   ],
   "source": [
    "type(c)"
   ]
  },
  {
   "cell_type": "code",
   "execution_count": 17,
   "metadata": {},
   "outputs": [
    {
     "data": {
      "image/png": "[encoded data removed]",
      "text/plain": [
       "<Figure size 432x288 with 1 Axes>"
      ]
     },
     "metadata": {
      "needs_background": "light"
     },
     "output_type": "display_data"
    }
   ],
   "source": [
    "n = np.arange(0,20,1)\n",
    "plt.plot(n,a,'s-',color = 'r',label=\"train_acc\")#s-:方形\n",
    "plt.plot(n,b,'o-',color = 'g',label=\"val_acc\")#o-:圆形\n",
    "plt.plot(n,c,'o-',color = 'b',label=\"loss\")\n",
    "plt.xlabel(\"# of epoch\")#横坐标名字\n",
    "plt.ylabel(\"accuracy\")#纵坐标名字\n",
    "plt.legend(loc = \"best\")#图例\n",
    "plt.show()"
   ]
  },
  {
   "cell_type": "code",
   "execution_count": 22,
   "metadata": {},
   "outputs": [
    {
     "name": "stdout",
     "output_type": "stream",
     "text": [
      "Accuracy: 0.67, Total items: 129\n"
     ]
    },
    {
     "data": {
      "text/plain": [
       "0.6666666666666666"
      ]
     },
     "execution_count": 22,
     "metadata": {},
     "output_type": "execute_result"
    }
   ],
   "source": [
    "inference(myModel, test_dl)"
   ]
  },
  {
   "cell_type": "code",
   "execution_count": null,
   "metadata": {},
   "outputs": [],
   "source": []
  },
  {
   "cell_type": "code",
   "execution_count": null,
   "metadata": {},
   "outputs": [],
   "source": []
  },
  {
   "cell_type": "code",
   "execution_count": null,
   "metadata": {},
   "outputs": [],
   "source": []
  }
 ],
 "metadata": {
  "colab": {
   "collapsed_sections": [],
   "name": "ee541 proj",
   "provenance": []
  },
  "kernelspec": {
   "display_name": "Python 3 (ipykernel)",
   "language": "python",
   "name": "python3"
  },
  "language_info": {
   "codemirror_mode": {
    "name": "ipython",
    "version": 3
   },
   "file_extension": ".py",
   "mimetype": "text/x-python",
   "name": "python",
   "nbconvert_exporter": "python",
   "pygments_lexer": "ipython3",
   "version": "3.8.8"
  }
 },
 "nbformat": 4,
 "nbformat_minor": 1
}
